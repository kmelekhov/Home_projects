{
 "cells": [
  {
   "cell_type": "code",
   "execution_count": 1,
   "id": "5ce7f816",
   "metadata": {},
   "outputs": [],
   "source": [
    "import pandas as pd\n",
    "import seaborn as sns\n",
    "import numpy as np\n",
    "import matplotlib.pyplot as plt\n",
    "\n",
    "from sklearn.model_selection import train_test_split\n",
    "from sklearn.linear_model import LinearRegression\n",
    "from sklearn.metrics import mean_squared_error, mean_absolute_error, mean_absolute_percentage_error, r2_score\n",
    "from sklearn.linear_model import Ridge, Lasso\n",
    "from sklearn.datasets import make_regression\n",
    "from sklearn.linear_model import HuberRegressor\n",
    "from sklearn.preprocessing import StandardScaler, MinMaxScaler\n",
    "from sklearn.pipeline import make_pipeline\n",
    "from sklearn.preprocessing import PolynomialFeatures\n",
    "from sklearn import linear_model"
   ]
  },
  {
   "cell_type": "code",
   "execution_count": 2,
   "id": "250cc3c5",
   "metadata": {},
   "outputs": [],
   "source": [
    "df=pd.read_csv('train_ex4.csv')"
   ]
  },
  {
   "cell_type": "markdown",
   "id": "e0830d03",
   "metadata": {},
   "source": [
    "MSSubClass : класс здания \\\n",
    "MSZoning : Общая классификация зонирования \\\n",
    "LotFrontage : Линейные футы улицы, соединенной с недвижимостью \\\n",
    "LotArea : Размер участка в квадратных футах \\\n",
    "Street : Тип подъездной дороги \\\n",
    "Alley : Тип доступа к аллее \\\n",
    "LotShape : Общая форма объекта \\\n",
    "LandContour : Плоскостность участка \\\n",
    "Utilities : Тип доступных утилит \\\n",
    "LotConfig : конфигурация лота \\\n",
    "LandSlope : Уклон участка \\\n",
    "Neighborhood : Физические местоположения в черте города Эймс \\\n",
    "Condition1 : Близость к главной дороге или железной дороге \\\n",
    "Condition2: близость к главной дороге или железной дороге (при наличии второй) \\\n",
    "BldgType : Тип жилья \\\n",
    "HouseStyle : стиль жилья \\\n",
    "OverallQual : общее качество материала и отделки \\\n",
    "OverallCond : общая оценка состояния \\\n",
    "YearBuilt : Первоначальная дата постройки \\\n",
    "YearRemodAdd : Дата ремоделирования \\\n",
    "RoofStyle : Тип крыши \\\n",
    "RoofMatl : Материал крыши \\\n",
    "Exterior1st : Наружное покрытие дома \\ \n",
    "Exterior2nd : Внешнее покрытие дома (если более одного материала) \\\n",
    "MasVnrType : Тип каменной кладки \\\n",
    "MasVnrArea : Площадь каменной кладки в квадратных футах \\\n",
    "ExterQual : качество материалов экстерьера \\\n",
    "ExterCond : Текущее состояние материала снаружи \\\n",
    "Foundation : Тип фундамента \\\n",
    "BsmtQual : Высота подвала \\\n",
    "BsmtCond : Общее состояние подвала \\\n",
    "BsmtExposure : Стены подвала на уровне сада или выхода \\\n",
    "BsmtFinType1 : Качество отделки цокольного этажа \\\n",
    "BsmtFinSF1 : тип 1 готовых квадратных футов \\\n",
    "BsmtFinType2 : Качество второй готовой области (если присутствует) \\\n",
    "BsmtFinSF2 : тип 2 готовых квадратных футов \\\n",
    "BsmtUnfSF : Незавершенные квадратные футы подвального помещения \\\n",
    "TotalBsmtSF : Общая площадь подвала в квадратных футах \\\n",
    "Heating : Тип отопления \\\n",
    "HeatingQC : Качество и состояние отопления \\\n",
    "CentralAir : Центральное кондиционирование воздуха \\\n",
    "Electrical : Электрическая система \\\n",
    "1stFlrSF : Квадратные футы первого этажа \\\n",
    "2ndFlrSF : Квадратные футы второго этажа \\\n",
    "LowQualFinSF : квадратные футы с отделкой низкого качества (все этажи) \\\n",
    "GrLivArea : жилая площадь над землей в квадратных футах \\\n",
    "BsmtFullBath : Ванные комнаты в подвале \\\n",
    "BsmtHalfBath : Половина ванных комнат в подвале \\\n",
    "FullBath : полностью оборудованные ванные комнаты выше уровня земли \\\n",
    "HalfBath : полуванны выше уровня земли \\\n",
    "Bedroom : Количество спален над цокольным этажом \\\n",
    "Kitchen : Количество кухонь \\\n",
    "KitchenQual : Качество кухни \\\n",
    "TotRmsAbvGrd : Общее количество комнат выше класса (не включая ванные комнаты) \\\n",
    "Functional : Рейтинг домашней функциональности \\\n",
    "Fireplaces : Количество каминов \\\n",
    "FireplaceQu : Качество камина \\\n",
    "GarageType : место в гараже \\\n",
    "GarageYrBlt : Год постройки гаража \\\n",
    "GarageFinish : Внутренняя отделка гаража \\\n",
    "GarageCars : Размер гаража по вместимости автомобиля \\\n",
    "GarageArea : Размер гаража в квадратных футах \\\n",
    "GarageQual : качество гаража \\\n",
    "GarageCond : Гаражное состояние \\\n",
    "PavedDrive : Асфальтированная дорога \\\n",
    "WoodDeckSF : площадь деревянной палубы в квадратных футах \\\n",
    "OpenPorchSF : площадь открытого крыльца в квадратных футах \\\n",
    "EnclosedPorch : закрытая площадь крыльца в квадратных футах \\\n",
    "3SsnPorch : площадь крыльца для трех сезонов в квадратных футах \\\n",
    "ScreenPorch : Площадь крыльца экрана в квадратных футах \\\n",
    "PoolArea : площадь бассейна в квадратных футах \\\n",
    "PoolQC : качество пула \\\n",
    "Fence : Качество забора \\\n",
    "MiscFeature : Разная функция, не включенная в другие категории \\\n",
    "MiscVal : $Значение различных функций \\\n",
    "MoSold : Месяц продажи \\\n",
    "YrSold : Год продажи \\\n",
    "SaleType : Тип продажи \\\n",
    "SaleCondition : Состояние продажи \\\n",
    "SalePrice : цена продажи недвижимости в долларах. Это целевая переменная, которую вы пытаетесь предсказать \\"
   ]
  },
  {
   "cell_type": "code",
   "execution_count": 3,
   "id": "dc09f8bf",
   "metadata": {},
   "outputs": [
    {
     "data": {
      "text/html": [
       "<div>\n",
       "<style scoped>\n",
       "    .dataframe tbody tr th:only-of-type {\n",
       "        vertical-align: middle;\n",
       "    }\n",
       "\n",
       "    .dataframe tbody tr th {\n",
       "        vertical-align: top;\n",
       "    }\n",
       "\n",
       "    .dataframe thead th {\n",
       "        text-align: right;\n",
       "    }\n",
       "</style>\n",
       "<table border=\"1\" class=\"dataframe\">\n",
       "  <thead>\n",
       "    <tr style=\"text-align: right;\">\n",
       "      <th></th>\n",
       "      <th>Id</th>\n",
       "      <th>MSSubClass</th>\n",
       "      <th>MSZoning</th>\n",
       "      <th>LotFrontage</th>\n",
       "      <th>LotArea</th>\n",
       "      <th>Street</th>\n",
       "      <th>Alley</th>\n",
       "      <th>LotShape</th>\n",
       "      <th>LandContour</th>\n",
       "      <th>Utilities</th>\n",
       "      <th>...</th>\n",
       "      <th>PoolArea</th>\n",
       "      <th>PoolQC</th>\n",
       "      <th>Fence</th>\n",
       "      <th>MiscFeature</th>\n",
       "      <th>MiscVal</th>\n",
       "      <th>MoSold</th>\n",
       "      <th>YrSold</th>\n",
       "      <th>SaleType</th>\n",
       "      <th>SaleCondition</th>\n",
       "      <th>SalePrice</th>\n",
       "    </tr>\n",
       "  </thead>\n",
       "  <tbody>\n",
       "    <tr>\n",
       "      <th>0</th>\n",
       "      <td>1</td>\n",
       "      <td>60</td>\n",
       "      <td>RL</td>\n",
       "      <td>65.0</td>\n",
       "      <td>8450</td>\n",
       "      <td>Pave</td>\n",
       "      <td>NaN</td>\n",
       "      <td>Reg</td>\n",
       "      <td>Lvl</td>\n",
       "      <td>AllPub</td>\n",
       "      <td>...</td>\n",
       "      <td>0</td>\n",
       "      <td>NaN</td>\n",
       "      <td>NaN</td>\n",
       "      <td>NaN</td>\n",
       "      <td>0</td>\n",
       "      <td>2</td>\n",
       "      <td>2008</td>\n",
       "      <td>WD</td>\n",
       "      <td>Normal</td>\n",
       "      <td>208500</td>\n",
       "    </tr>\n",
       "    <tr>\n",
       "      <th>1</th>\n",
       "      <td>2</td>\n",
       "      <td>20</td>\n",
       "      <td>RL</td>\n",
       "      <td>80.0</td>\n",
       "      <td>9600</td>\n",
       "      <td>Pave</td>\n",
       "      <td>NaN</td>\n",
       "      <td>Reg</td>\n",
       "      <td>Lvl</td>\n",
       "      <td>AllPub</td>\n",
       "      <td>...</td>\n",
       "      <td>0</td>\n",
       "      <td>NaN</td>\n",
       "      <td>NaN</td>\n",
       "      <td>NaN</td>\n",
       "      <td>0</td>\n",
       "      <td>5</td>\n",
       "      <td>2007</td>\n",
       "      <td>WD</td>\n",
       "      <td>Normal</td>\n",
       "      <td>181500</td>\n",
       "    </tr>\n",
       "    <tr>\n",
       "      <th>2</th>\n",
       "      <td>3</td>\n",
       "      <td>60</td>\n",
       "      <td>RL</td>\n",
       "      <td>68.0</td>\n",
       "      <td>11250</td>\n",
       "      <td>Pave</td>\n",
       "      <td>NaN</td>\n",
       "      <td>IR1</td>\n",
       "      <td>Lvl</td>\n",
       "      <td>AllPub</td>\n",
       "      <td>...</td>\n",
       "      <td>0</td>\n",
       "      <td>NaN</td>\n",
       "      <td>NaN</td>\n",
       "      <td>NaN</td>\n",
       "      <td>0</td>\n",
       "      <td>9</td>\n",
       "      <td>2008</td>\n",
       "      <td>WD</td>\n",
       "      <td>Normal</td>\n",
       "      <td>223500</td>\n",
       "    </tr>\n",
       "    <tr>\n",
       "      <th>3</th>\n",
       "      <td>4</td>\n",
       "      <td>70</td>\n",
       "      <td>RL</td>\n",
       "      <td>60.0</td>\n",
       "      <td>9550</td>\n",
       "      <td>Pave</td>\n",
       "      <td>NaN</td>\n",
       "      <td>IR1</td>\n",
       "      <td>Lvl</td>\n",
       "      <td>AllPub</td>\n",
       "      <td>...</td>\n",
       "      <td>0</td>\n",
       "      <td>NaN</td>\n",
       "      <td>NaN</td>\n",
       "      <td>NaN</td>\n",
       "      <td>0</td>\n",
       "      <td>2</td>\n",
       "      <td>2006</td>\n",
       "      <td>WD</td>\n",
       "      <td>Abnorml</td>\n",
       "      <td>140000</td>\n",
       "    </tr>\n",
       "    <tr>\n",
       "      <th>4</th>\n",
       "      <td>5</td>\n",
       "      <td>60</td>\n",
       "      <td>RL</td>\n",
       "      <td>84.0</td>\n",
       "      <td>14260</td>\n",
       "      <td>Pave</td>\n",
       "      <td>NaN</td>\n",
       "      <td>IR1</td>\n",
       "      <td>Lvl</td>\n",
       "      <td>AllPub</td>\n",
       "      <td>...</td>\n",
       "      <td>0</td>\n",
       "      <td>NaN</td>\n",
       "      <td>NaN</td>\n",
       "      <td>NaN</td>\n",
       "      <td>0</td>\n",
       "      <td>12</td>\n",
       "      <td>2008</td>\n",
       "      <td>WD</td>\n",
       "      <td>Normal</td>\n",
       "      <td>250000</td>\n",
       "    </tr>\n",
       "  </tbody>\n",
       "</table>\n",
       "<p>5 rows × 81 columns</p>\n",
       "</div>"
      ],
      "text/plain": [
       "   Id  MSSubClass MSZoning  LotFrontage  LotArea Street Alley LotShape  \\\n",
       "0   1          60       RL         65.0     8450   Pave   NaN      Reg   \n",
       "1   2          20       RL         80.0     9600   Pave   NaN      Reg   \n",
       "2   3          60       RL         68.0    11250   Pave   NaN      IR1   \n",
       "3   4          70       RL         60.0     9550   Pave   NaN      IR1   \n",
       "4   5          60       RL         84.0    14260   Pave   NaN      IR1   \n",
       "\n",
       "  LandContour Utilities  ... PoolArea PoolQC Fence MiscFeature MiscVal MoSold  \\\n",
       "0         Lvl    AllPub  ...        0    NaN   NaN         NaN       0      2   \n",
       "1         Lvl    AllPub  ...        0    NaN   NaN         NaN       0      5   \n",
       "2         Lvl    AllPub  ...        0    NaN   NaN         NaN       0      9   \n",
       "3         Lvl    AllPub  ...        0    NaN   NaN         NaN       0      2   \n",
       "4         Lvl    AllPub  ...        0    NaN   NaN         NaN       0     12   \n",
       "\n",
       "  YrSold  SaleType  SaleCondition  SalePrice  \n",
       "0   2008        WD         Normal     208500  \n",
       "1   2007        WD         Normal     181500  \n",
       "2   2008        WD         Normal     223500  \n",
       "3   2006        WD        Abnorml     140000  \n",
       "4   2008        WD         Normal     250000  \n",
       "\n",
       "[5 rows x 81 columns]"
      ]
     },
     "execution_count": 3,
     "metadata": {},
     "output_type": "execute_result"
    }
   ],
   "source": [
    "df.head()"
   ]
  },
  {
   "cell_type": "code",
   "execution_count": 4,
   "id": "fad4b854",
   "metadata": {},
   "outputs": [
    {
     "data": {
      "text/plain": [
       "(1460, 81)"
      ]
     },
     "execution_count": 4,
     "metadata": {},
     "output_type": "execute_result"
    }
   ],
   "source": [
    "df.shape"
   ]
  },
  {
   "cell_type": "code",
   "execution_count": 5,
   "id": "cab4506c",
   "metadata": {},
   "outputs": [
    {
     "data": {
      "text/plain": [
       "count      1460.000000\n",
       "mean     180921.195890\n",
       "std       79442.502883\n",
       "min       34900.000000\n",
       "25%      129975.000000\n",
       "50%      163000.000000\n",
       "75%      214000.000000\n",
       "max      755000.000000\n",
       "Name: SalePrice, dtype: float64"
      ]
     },
     "execution_count": 5,
     "metadata": {},
     "output_type": "execute_result"
    }
   ],
   "source": [
    "df['SalePrice'].describe()"
   ]
  },
  {
   "cell_type": "code",
   "execution_count": 6,
   "id": "b47aef60",
   "metadata": {},
   "outputs": [
    {
     "name": "stderr",
     "output_type": "stream",
     "text": [
      "C:\\Anaconda\\lib\\site-packages\\seaborn\\distributions.py:2619: FutureWarning: `distplot` is a deprecated function and will be removed in a future version. Please adapt your code to use either `displot` (a figure-level function with similar flexibility) or `histplot` (an axes-level function for histograms).\n",
      "  warnings.warn(msg, FutureWarning)\n"
     ]
    },
    {
     "data": {
      "text/plain": [
       "<AxesSubplot:xlabel='SalePrice', ylabel='Density'>"
      ]
     },
     "execution_count": 6,
     "metadata": {},
     "output_type": "execute_result"
    },
    {
     "data": {
      "image/png": "[encoded data removed]",
      "text/plain": [
       "<Figure size 720x576 with 1 Axes>"
      ]
     },
     "metadata": {
      "needs_background": "light"
     },
     "output_type": "display_data"
    }
   ],
   "source": [
    "plt.subplots(figsize=(10,8))\n",
    "sns.distplot(df['SalePrice'])"
   ]
  },
  {
   "cell_type": "code",
   "execution_count": 7,
   "id": "6ec05208",
   "metadata": {},
   "outputs": [
    {
     "data": {
      "text/plain": [
       "PoolQC          1453\n",
       "MiscFeature     1406\n",
       "Alley           1369\n",
       "Fence           1179\n",
       "FireplaceQu      690\n",
       "LotFrontage      259\n",
       "GarageYrBlt       81\n",
       "GarageCond        81\n",
       "GarageType        81\n",
       "GarageFinish      81\n",
       "GarageQual        81\n",
       "BsmtFinType2      38\n",
       "BsmtExposure      38\n",
       "BsmtQual          37\n",
       "BsmtCond          37\n",
       "BsmtFinType1      37\n",
       "MasVnrArea         8\n",
       "MasVnrType         8\n",
       "Electrical         1\n",
       "Id                 0\n",
       "Functional         0\n",
       "Fireplaces         0\n",
       "KitchenQual        0\n",
       "KitchenAbvGr       0\n",
       "BedroomAbvGr       0\n",
       "HalfBath           0\n",
       "FullBath           0\n",
       "BsmtHalfBath       0\n",
       "TotRmsAbvGrd       0\n",
       "GarageCars         0\n",
       "dtype: int64"
      ]
     },
     "execution_count": 7,
     "metadata": {},
     "output_type": "execute_result"
    }
   ],
   "source": [
    "df.isnull().sum().sort_values(ascending=False).head(30)"
   ]
  },
  {
   "cell_type": "markdown",
   "id": "56c41ccc",
   "metadata": {},
   "source": [
    "## Поработаем со столбцами, где обнаружены пропущенные значения"
   ]
  },
  {
   "cell_type": "code",
   "execution_count": 8,
   "id": "ca994179",
   "metadata": {},
   "outputs": [
    {
     "name": "stdout",
     "output_type": "stream",
     "text": [
      "<class 'pandas.core.frame.DataFrame'>\n",
      "RangeIndex: 1460 entries, 0 to 1459\n",
      "Data columns (total 81 columns):\n",
      " #   Column         Non-Null Count  Dtype  \n",
      "---  ------         --------------  -----  \n",
      " 0   Id             1460 non-null   int64  \n",
      " 1   MSSubClass     1460 non-null   int64  \n",
      " 2   MSZoning       1460 non-null   object \n",
      " 3   LotFrontage    1201 non-null   float64\n",
      " 4   LotArea        1460 non-null   int64  \n",
      " 5   Street         1460 non-null   object \n",
      " 6   Alley          91 non-null     object \n",
      " 7   LotShape       1460 non-null   object \n",
      " 8   LandContour    1460 non-null   object \n",
      " 9   Utilities      1460 non-null   object \n",
      " 10  LotConfig      1460 non-null   object \n",
      " 11  LandSlope      1460 non-null   object \n",
      " 12  Neighborhood   1460 non-null   object \n",
      " 13  Condition1     1460 non-null   object \n",
      " 14  Condition2     1460 non-null   object \n",
      " 15  BldgType       1460 non-null   object \n",
      " 16  HouseStyle     1460 non-null   object \n",
      " 17  OverallQual    1460 non-null   int64  \n",
      " 18  OverallCond    1460 non-null   int64  \n",
      " 19  YearBuilt      1460 non-null   int64  \n",
      " 20  YearRemodAdd   1460 non-null   int64  \n",
      " 21  RoofStyle      1460 non-null   object \n",
      " 22  RoofMatl       1460 non-null   object \n",
      " 23  Exterior1st    1460 non-null   object \n",
      " 24  Exterior2nd    1460 non-null   object \n",
      " 25  MasVnrType     1452 non-null   object \n",
      " 26  MasVnrArea     1452 non-null   float64\n",
      " 27  ExterQual      1460 non-null   object \n",
      " 28  ExterCond      1460 non-null   object \n",
      " 29  Foundation     1460 non-null   object \n",
      " 30  BsmtQual       1423 non-null   object \n",
      " 31  BsmtCond       1423 non-null   object \n",
      " 32  BsmtExposure   1422 non-null   object \n",
      " 33  BsmtFinType1   1423 non-null   object \n",
      " 34  BsmtFinSF1     1460 non-null   int64  \n",
      " 35  BsmtFinType2   1422 non-null   object \n",
      " 36  BsmtFinSF2     1460 non-null   int64  \n",
      " 37  BsmtUnfSF      1460 non-null   int64  \n",
      " 38  TotalBsmtSF    1460 non-null   int64  \n",
      " 39  Heating        1460 non-null   object \n",
      " 40  HeatingQC      1460 non-null   object \n",
      " 41  CentralAir     1460 non-null   object \n",
      " 42  Electrical     1459 non-null   object \n",
      " 43  1stFlrSF       1460 non-null   int64  \n",
      " 44  2ndFlrSF       1460 non-null   int64  \n",
      " 45  LowQualFinSF   1460 non-null   int64  \n",
      " 46  GrLivArea      1460 non-null   int64  \n",
      " 47  BsmtFullBath   1460 non-null   int64  \n",
      " 48  BsmtHalfBath   1460 non-null   int64  \n",
      " 49  FullBath       1460 non-null   int64  \n",
      " 50  HalfBath       1460 non-null   int64  \n",
      " 51  BedroomAbvGr   1460 non-null   int64  \n",
      " 52  KitchenAbvGr   1460 non-null   int64  \n",
      " 53  KitchenQual    1460 non-null   object \n",
      " 54  TotRmsAbvGrd   1460 non-null   int64  \n",
      " 55  Functional     1460 non-null   object \n",
      " 56  Fireplaces     1460 non-null   int64  \n",
      " 57  FireplaceQu    770 non-null    object \n",
      " 58  GarageType     1379 non-null   object \n",
      " 59  GarageYrBlt    1379 non-null   float64\n",
      " 60  GarageFinish   1379 non-null   object \n",
      " 61  GarageCars     1460 non-null   int64  \n",
      " 62  GarageArea     1460 non-null   int64  \n",
      " 63  GarageQual     1379 non-null   object \n",
      " 64  GarageCond     1379 non-null   object \n",
      " 65  PavedDrive     1460 non-null   object \n",
      " 66  WoodDeckSF     1460 non-null   int64  \n",
      " 67  OpenPorchSF    1460 non-null   int64  \n",
      " 68  EnclosedPorch  1460 non-null   int64  \n",
      " 69  3SsnPorch      1460 non-null   int64  \n",
      " 70  ScreenPorch    1460 non-null   int64  \n",
      " 71  PoolArea       1460 non-null   int64  \n",
      " 72  PoolQC         7 non-null      object \n",
      " 73  Fence          281 non-null    object \n",
      " 74  MiscFeature    54 non-null     object \n",
      " 75  MiscVal        1460 non-null   int64  \n",
      " 76  MoSold         1460 non-null   int64  \n",
      " 77  YrSold         1460 non-null   int64  \n",
      " 78  SaleType       1460 non-null   object \n",
      " 79  SaleCondition  1460 non-null   object \n",
      " 80  SalePrice      1460 non-null   int64  \n",
      "dtypes: float64(3), int64(35), object(43)\n",
      "memory usage: 924.0+ KB\n"
     ]
    }
   ],
   "source": [
    "df.info()"
   ]
  },
  {
   "cell_type": "code",
   "execution_count": 9,
   "id": "9ed851d2",
   "metadata": {},
   "outputs": [],
   "source": [
    "df.drop(['Alley', 'PoolQC', 'MiscFeature', 'Fence'], axis=1, inplace=True)"
   ]
  },
  {
   "cell_type": "code",
   "execution_count": 10,
   "id": "2696389c",
   "metadata": {},
   "outputs": [],
   "source": [
    "df['LotFrontage']=df['LotFrontage'].fillna(df['LotFrontage'].mean())"
   ]
  },
  {
   "cell_type": "code",
   "execution_count": 11,
   "id": "ff9e7ca8",
   "metadata": {},
   "outputs": [],
   "source": [
    "df['BsmtCond']=df['BsmtCond'].fillna(df['BsmtCond'].mode()[0])\n",
    "df['BsmtQual']=df['BsmtQual'].fillna(df['BsmtQual'].mode()[0])"
   ]
  },
  {
   "cell_type": "code",
   "execution_count": 12,
   "id": "8ee8f928",
   "metadata": {},
   "outputs": [],
   "source": [
    "df['GarageFinish']=df['GarageFinish'].fillna(df['GarageFinish'].mode()[0])\n",
    "df['FireplaceQu']=df['FireplaceQu'].fillna(df['FireplaceQu'].mode()[0])\n",
    "df['GarageType']=df['GarageType'].fillna(df['GarageType'].mode()[0])\n",
    "df['GarageQual']=df['GarageQual'].fillna(df['GarageQual'].mode()[0])\n",
    "df['GarageCond']=df['GarageCond'].fillna(df['GarageCond'].mode()[0])"
   ]
  },
  {
   "cell_type": "code",
   "execution_count": 13,
   "id": "9f3bad60",
   "metadata": {},
   "outputs": [],
   "source": [
    "df.drop(['GarageYrBlt'], axis=1, inplace=True)"
   ]
  },
  {
   "cell_type": "code",
   "execution_count": 14,
   "id": "ffff0dbf",
   "metadata": {},
   "outputs": [
    {
     "data": {
      "text/plain": [
       "BsmtFinType2    38\n",
       "BsmtExposure    38\n",
       "BsmtFinType1    37\n",
       "MasVnrType       8\n",
       "MasVnrArea       8\n",
       "Electrical       1\n",
       "Id               0\n",
       "BedroomAbvGr     0\n",
       "Functional       0\n",
       "TotRmsAbvGrd     0\n",
       "dtype: int64"
      ]
     },
     "execution_count": 14,
     "metadata": {},
     "output_type": "execute_result"
    }
   ],
   "source": [
    "df.isnull().sum().sort_values(ascending=False).head(10)"
   ]
  },
  {
   "cell_type": "code",
   "execution_count": 15,
   "id": "b5da3c04",
   "metadata": {},
   "outputs": [],
   "source": [
    "df['BsmtFinType2']=df['BsmtFinType2'].fillna(df['BsmtFinType2'].mode()[0])\n",
    "df['BsmtExposure']=df['BsmtExposure'].fillna(df['BsmtExposure'].mode()[0])\n",
    "df['BsmtFinType1']=df['BsmtFinType1'].fillna(df['BsmtFinType1'].mode()[0])"
   ]
  },
  {
   "cell_type": "code",
   "execution_count": 16,
   "id": "46e914d4",
   "metadata": {},
   "outputs": [],
   "source": [
    "df.dropna(inplace=True)"
   ]
  },
  {
   "cell_type": "code",
   "execution_count": 17,
   "id": "22bae252",
   "metadata": {},
   "outputs": [
    {
     "data": {
      "text/plain": [
       "(1451, 76)"
      ]
     },
     "execution_count": 17,
     "metadata": {},
     "output_type": "execute_result"
    }
   ],
   "source": [
    "df.shape"
   ]
  },
  {
   "cell_type": "markdown",
   "id": "83745c0b",
   "metadata": {},
   "source": [
    "## Преобразуем категориальные переменные"
   ]
  },
  {
   "cell_type": "code",
   "execution_count": 18,
   "id": "73dff168",
   "metadata": {},
   "outputs": [
    {
     "name": "stdout",
     "output_type": "stream",
     "text": [
      "<class 'pandas.core.frame.DataFrame'>\n",
      "Int64Index: 1451 entries, 0 to 1459\n",
      "Data columns (total 76 columns):\n",
      " #   Column         Non-Null Count  Dtype  \n",
      "---  ------         --------------  -----  \n",
      " 0   Id             1451 non-null   int64  \n",
      " 1   MSSubClass     1451 non-null   int64  \n",
      " 2   MSZoning       1451 non-null   object \n",
      " 3   LotFrontage    1451 non-null   float64\n",
      " 4   LotArea        1451 non-null   int64  \n",
      " 5   Street         1451 non-null   object \n",
      " 6   LotShape       1451 non-null   object \n",
      " 7   LandContour    1451 non-null   object \n",
      " 8   Utilities      1451 non-null   object \n",
      " 9   LotConfig      1451 non-null   object \n",
      " 10  LandSlope      1451 non-null   object \n",
      " 11  Neighborhood   1451 non-null   object \n",
      " 12  Condition1     1451 non-null   object \n",
      " 13  Condition2     1451 non-null   object \n",
      " 14  BldgType       1451 non-null   object \n",
      " 15  HouseStyle     1451 non-null   object \n",
      " 16  OverallQual    1451 non-null   int64  \n",
      " 17  OverallCond    1451 non-null   int64  \n",
      " 18  YearBuilt      1451 non-null   int64  \n",
      " 19  YearRemodAdd   1451 non-null   int64  \n",
      " 20  RoofStyle      1451 non-null   object \n",
      " 21  RoofMatl       1451 non-null   object \n",
      " 22  Exterior1st    1451 non-null   object \n",
      " 23  Exterior2nd    1451 non-null   object \n",
      " 24  MasVnrType     1451 non-null   object \n",
      " 25  MasVnrArea     1451 non-null   float64\n",
      " 26  ExterQual      1451 non-null   object \n",
      " 27  ExterCond      1451 non-null   object \n",
      " 28  Foundation     1451 non-null   object \n",
      " 29  BsmtQual       1451 non-null   object \n",
      " 30  BsmtCond       1451 non-null   object \n",
      " 31  BsmtExposure   1451 non-null   object \n",
      " 32  BsmtFinType1   1451 non-null   object \n",
      " 33  BsmtFinSF1     1451 non-null   int64  \n",
      " 34  BsmtFinType2   1451 non-null   object \n",
      " 35  BsmtFinSF2     1451 non-null   int64  \n",
      " 36  BsmtUnfSF      1451 non-null   int64  \n",
      " 37  TotalBsmtSF    1451 non-null   int64  \n",
      " 38  Heating        1451 non-null   object \n",
      " 39  HeatingQC      1451 non-null   object \n",
      " 40  CentralAir     1451 non-null   object \n",
      " 41  Electrical     1451 non-null   object \n",
      " 42  1stFlrSF       1451 non-null   int64  \n",
      " 43  2ndFlrSF       1451 non-null   int64  \n",
      " 44  LowQualFinSF   1451 non-null   int64  \n",
      " 45  GrLivArea      1451 non-null   int64  \n",
      " 46  BsmtFullBath   1451 non-null   int64  \n",
      " 47  BsmtHalfBath   1451 non-null   int64  \n",
      " 48  FullBath       1451 non-null   int64  \n",
      " 49  HalfBath       1451 non-null   int64  \n",
      " 50  BedroomAbvGr   1451 non-null   int64  \n",
      " 51  KitchenAbvGr   1451 non-null   int64  \n",
      " 52  KitchenQual    1451 non-null   object \n",
      " 53  TotRmsAbvGrd   1451 non-null   int64  \n",
      " 54  Functional     1451 non-null   object \n",
      " 55  Fireplaces     1451 non-null   int64  \n",
      " 56  FireplaceQu    1451 non-null   object \n",
      " 57  GarageType     1451 non-null   object \n",
      " 58  GarageFinish   1451 non-null   object \n",
      " 59  GarageCars     1451 non-null   int64  \n",
      " 60  GarageArea     1451 non-null   int64  \n",
      " 61  GarageQual     1451 non-null   object \n",
      " 62  GarageCond     1451 non-null   object \n",
      " 63  PavedDrive     1451 non-null   object \n",
      " 64  WoodDeckSF     1451 non-null   int64  \n",
      " 65  OpenPorchSF    1451 non-null   int64  \n",
      " 66  EnclosedPorch  1451 non-null   int64  \n",
      " 67  3SsnPorch      1451 non-null   int64  \n",
      " 68  ScreenPorch    1451 non-null   int64  \n",
      " 69  PoolArea       1451 non-null   int64  \n",
      " 70  MiscVal        1451 non-null   int64  \n",
      " 71  MoSold         1451 non-null   int64  \n",
      " 72  YrSold         1451 non-null   int64  \n",
      " 73  SaleType       1451 non-null   object \n",
      " 74  SaleCondition  1451 non-null   object \n",
      " 75  SalePrice      1451 non-null   int64  \n",
      "dtypes: float64(2), int64(35), object(39)\n",
      "memory usage: 872.9+ KB\n"
     ]
    }
   ],
   "source": [
    "df.info()"
   ]
  },
  {
   "cell_type": "code",
   "execution_count": 19,
   "id": "764a1673",
   "metadata": {},
   "outputs": [],
   "source": [
    "cat_columns=['MSZoning','Street','LotShape','LandContour','Utilities','LotConfig','LandSlope','Neighborhood','Condition1',\n",
    "             'Condition2','BldgType','HouseStyle','RoofStyle','RoofMatl','Exterior1st','Exterior2nd','MasVnrType','ExterQual',\n",
    "            'ExterCond','Foundation','BsmtQual','BsmtCond','BsmtExposure','BsmtFinType1','BsmtFinType2','Heating','HeatingQC',\n",
    "            'CentralAir','Electrical','KitchenQual','Functional','FireplaceQu','GarageType','GarageFinish','GarageQual',\n",
    "            'GarageCond','PavedDrive','SaleType','SaleCondition']"
   ]
  },
  {
   "cell_type": "code",
   "execution_count": 20,
   "id": "778a0b11",
   "metadata": {},
   "outputs": [
    {
     "data": {
      "text/plain": [
       "39"
      ]
     },
     "execution_count": 20,
     "metadata": {},
     "output_type": "execute_result"
    }
   ],
   "source": [
    "len(cat_columns)"
   ]
  },
  {
   "cell_type": "code",
   "execution_count": 21,
   "id": "fa224e8d",
   "metadata": {},
   "outputs": [],
   "source": [
    "df_dummy = pd.get_dummies(data=df[['MSZoning','Street','LotShape','LandContour','Utilities','LotConfig','LandSlope',\n",
    "                                   'Neighborhood','Condition1','Condition2','BldgType','HouseStyle','RoofStyle',\n",
    "                                   'RoofMatl','Exterior1st','Exterior2nd','MasVnrType','ExterQual','ExterCond',\n",
    "                                   'Foundation','BsmtQual','BsmtCond','BsmtExposure','BsmtFinType1','BsmtFinType2','Heating',\n",
    "                                   'HeatingQC','CentralAir','Electrical','KitchenQual','Functional','FireplaceQu','GarageType',\n",
    "                                   'GarageFinish','GarageQual','GarageCond','PavedDrive','SaleType',\n",
    "                                   'SaleCondition']], drop_first = True)"
   ]
  },
  {
   "cell_type": "code",
   "execution_count": 22,
   "id": "e6e5085b",
   "metadata": {},
   "outputs": [],
   "source": [
    "houses_df=pd.concat([df.drop(['MSZoning','Street','LotShape','LandContour','Utilities','LotConfig','LandSlope',\n",
    "                                'Neighborhood','Condition1','Condition2','BldgType','HouseStyle','RoofStyle',\n",
    "                                'RoofMatl','Exterior1st','Exterior2nd','MasVnrType','ExterQual','ExterCond',\n",
    "                                'Foundation','BsmtQual','BsmtCond','BsmtExposure','BsmtFinType1','BsmtFinType2',\n",
    "                                'Heating','HeatingQC','CentralAir','Electrical','KitchenQual','Functional',\n",
    "                                'FireplaceQu','GarageType','GarageFinish','GarageQual','GarageCond',\n",
    "                                'PavedDrive','SaleType','SaleCondition'], axis='columns'),df_dummy],axis=1)"
   ]
  },
  {
   "cell_type": "code",
   "execution_count": 23,
   "id": "b6ef5ce5",
   "metadata": {},
   "outputs": [
    {
     "data": {
      "text/plain": [
       "(1451, 237)"
      ]
     },
     "execution_count": 23,
     "metadata": {},
     "output_type": "execute_result"
    }
   ],
   "source": [
    "houses_df.shape"
   ]
  },
  {
   "cell_type": "markdown",
   "id": "72797be7",
   "metadata": {},
   "source": [
    "## Строим модель"
   ]
  },
  {
   "cell_type": "code",
   "execution_count": 24,
   "id": "d72dcf9d",
   "metadata": {},
   "outputs": [],
   "source": [
    "X = houses_df.drop(['SalePrice', 'Id'], axis=1)\n",
    "y = np.log(houses_df['SalePrice'])"
   ]
  },
  {
   "cell_type": "code",
   "execution_count": 31,
   "id": "f78973b0",
   "metadata": {},
   "outputs": [],
   "source": [
    "X_train, X_test, y_train, y_test = train_test_split(X, y, random_state=13)"
   ]
  },
  {
   "cell_type": "code",
   "execution_count": 32,
   "id": "8dfd7751",
   "metadata": {},
   "outputs": [],
   "source": [
    "model = LinearRegression()\n",
    "model.fit(X_train, y_train)\n",
    "y_pred = model.predict(X_test)"
   ]
  },
  {
   "cell_type": "code",
   "execution_count": 33,
   "id": "3f8d27eb",
   "metadata": {},
   "outputs": [
    {
     "name": "stdout",
     "output_type": "stream",
     "text": [
      "MSE: 0.0433\n",
      "MAE: 0.0939\n"
     ]
    }
   ],
   "source": [
    "print(f'MSE: {mean_squared_error(y_test, y_pred):.4f}')\n",
    "print(f'MAE: {mean_absolute_error(y_test, y_pred):.4f}')"
   ]
  },
  {
   "cell_type": "code",
   "execution_count": 36,
   "id": "a5dd5547",
   "metadata": {},
   "outputs": [
    {
     "name": "stdout",
     "output_type": "stream",
     "text": [
      "MAPE: 0.0079\n",
      "R^2: 0.7190\n"
     ]
    }
   ],
   "source": [
    "print(f'MAPE: {mean_absolute_percentage_error(y_test, y_pred):.4f}')\n",
    "print(f'R^2: {r2_score(y_test, y_pred):.4f}')"
   ]
  },
  {
   "cell_type": "code",
   "execution_count": 35,
   "id": "812be740",
   "metadata": {},
   "outputs": [
    {
     "name": "stdout",
     "output_type": "stream",
     "text": [
      "MSE (Ridge): 0.042467118836356524\n",
      "MAE (Ridge): 0.09294367391404652\n",
      "MAPE (Ridge): 0.007782145036024564\n",
      "R^2 (Ridge): 0.7246500669180703\n",
      "MSE (Lasso): 0.0738713704085167\n",
      "MAE (Lasso): 0.12815689652610485\n",
      "MAPE (Lasso): 0.0107009624221092\n",
      "R^2 (Lasso): 0.521029976697128\n"
     ]
    }
   ],
   "source": [
    "from sklearn.linear_model import Ridge, Lasso\n",
    "ridge = Ridge()\n",
    "lasso = Lasso()\n",
    "\n",
    "ridge.fit(X_train, y_train)\n",
    "lasso.fit(X_train, y_train)\n",
    "\n",
    "print(f'MSE (Ridge): {mean_squared_error(y_test, ridge.predict(X_test))}')\n",
    "print(f'MAE (Ridge): {mean_absolute_error(y_test, ridge.predict(X_test))}')\n",
    "print(f'MAPE (Ridge): {mean_absolute_percentage_error(y_test, ridge.predict(X_test))}')\n",
    "print(f'R^2 (Ridge): {r2_score(y_test, ridge.predict(X_test))}')\n",
    "\n",
    "print(f'MSE (Lasso): {mean_squared_error(y_test, lasso.predict(X_test))}')\n",
    "print(f'MAE (Lasso): {mean_absolute_error(y_test, lasso.predict(X_test))}')\n",
    "print(f'MAPE (Lasso): {mean_absolute_percentage_error(y_test, lasso.predict(X_test))}')\n",
    "print(f'R^2 (Lasso): {r2_score(y_test, lasso.predict(X_test))}')\n"
   ]
  },
  {
   "cell_type": "code",
   "execution_count": null,
   "id": "9e1dff57",
   "metadata": {},
   "outputs": [],
   "source": []
  },
  {
   "cell_type": "code",
   "execution_count": null,
   "id": "3aa877e7",
   "metadata": {},
   "outputs": [],
   "source": []
  },
  {
   "cell_type": "code",
   "execution_count": null,
   "id": "ef5a9114",
   "metadata": {},
   "outputs": [],
   "source": []
  }
 ],
 "metadata": {
  "kernelspec": {
   "display_name": "Python 3 (ipykernel)",
   "language": "python",
   "name": "python3"
  },
  "language_info": {
   "codemirror_mode": {
    "name": "ipython",
    "version": 3
   },
   "file_extension": ".py",
   "mimetype": "text/x-python",
   "name": "python",
   "nbconvert_exporter": "python",
   "pygments_lexer": "ipython3",
   "version": "3.9.7"
  }
 },
 "nbformat": 4,
 "nbformat_minor": 5
}
