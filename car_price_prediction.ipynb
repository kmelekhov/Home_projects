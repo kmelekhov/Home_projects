{
 "cells": [
  {
   "cell_type": "markdown",
   "metadata": {},
   "source": [
    "### Применение линейной регрессии для построения предсказательной модели стоимости автомобилей"
   ]
  },
  {
   "cell_type": "code",
   "execution_count": null,
   "metadata": {},
   "outputs": [],
   "source": [
    "import pandas as pd"
   ]
  },
  {
   "cell_type": "code",
   "execution_count": 35,
   "metadata": {},
   "outputs": [],
   "source": [
    "df=pd.read_csv('cars.csv')"
   ]
  },
  {
   "cell_type": "code",
   "execution_count": 36,
   "metadata": {},
   "outputs": [],
   "source": [
    "df['company']=df.CarName.apply(lambda c: c.split(' ')[0])"
   ]
  },
  {
   "cell_type": "code",
   "execution_count": 4,
   "metadata": {},
   "outputs": [
    {
     "data": {
      "text/plain": [
       "28"
      ]
     },
     "execution_count": 4,
     "metadata": {},
     "output_type": "execute_result"
    }
   ],
   "source": [
    "df.company.nunique()"
   ]
  },
  {
   "cell_type": "code",
   "execution_count": 5,
   "metadata": {},
   "outputs": [],
   "source": [
    "df.drop('car_ID', axis='columns', inplace=True)\n",
    "df.drop('CarName',axis='columns', inplace=True)"
   ]
  },
  {
   "cell_type": "code",
   "execution_count": 6,
   "metadata": {},
   "outputs": [],
   "source": [
    "df.company=df.company.str.lower()"
   ]
  },
  {
   "cell_type": "code",
   "execution_count": 7,
   "metadata": {},
   "outputs": [],
   "source": [
    "def fix_company(to_rep, how_rep):\n",
    "    df.company.replace(to_rep, how_rep, inplace=True)"
   ]
  },
  {
   "cell_type": "code",
   "execution_count": 8,
   "metadata": {},
   "outputs": [],
   "source": [
    "fix_company('maxda','mazda')\n",
    "fix_company('porcshce','porsche')\n",
    "fix_company('toyouta','toyota')\n",
    "fix_company('vokswagen','volkswagen')\n",
    "fix_company('vw','volkswagen')"
   ]
  },
  {
   "cell_type": "code",
   "execution_count": 9,
   "metadata": {},
   "outputs": [
    {
     "data": {
      "text/plain": [
       "22"
      ]
     },
     "execution_count": 9,
     "metadata": {},
     "output_type": "execute_result"
    }
   ],
   "source": [
    "df.company.nunique()"
   ]
  },
  {
   "cell_type": "code",
   "execution_count": 10,
   "metadata": {},
   "outputs": [],
   "source": [
    "# Чтобы не перегружать модель большим количеством предикторов, оставим только часть из них:\n",
    "cols_to_keep=['company', 'fueltype', 'aspiration','carbody', 'drivewheel', 'wheelbase', 'carlength','carwidth', 'curbweight', 'enginetype', 'cylindernumber', 'enginesize', 'boreratio','horsepower','price']"
   ]
  },
  {
   "cell_type": "code",
   "execution_count": 11,
   "metadata": {},
   "outputs": [],
   "source": [
    "# отфильтруем датафрейм по указанным колонкам\n",
    "df_cor=df[cols_to_keep]"
   ]
  },
  {
   "cell_type": "code",
   "execution_count": 12,
   "metadata": {},
   "outputs": [
    {
     "data": {
      "text/plain": [
       "wheelbase     0.58\n",
       "carlength     0.68\n",
       "carwidth      0.76\n",
       "curbweight    0.84\n",
       "enginesize    0.87\n",
       "boreratio     0.55\n",
       "horsepower    0.81\n",
       "price         1.00\n",
       "Name: price, dtype: float64"
      ]
     },
     "execution_count": 12,
     "metadata": {},
     "output_type": "execute_result"
    }
   ],
   "source": [
    "# посчитаем корреляцию между price и другими переменными\n",
    "df_cor.corr()['price'].round(2)"
   ]
  },
  {
   "cell_type": "code",
   "execution_count": 13,
   "metadata": {
    "scrolled": true
   },
   "outputs": [
    {
     "data": {
      "text/plain": [
       "company            object\n",
       "fueltype           object\n",
       "aspiration         object\n",
       "carbody            object\n",
       "drivewheel         object\n",
       "wheelbase         float64\n",
       "carlength         float64\n",
       "carwidth          float64\n",
       "curbweight          int64\n",
       "enginetype         object\n",
       "cylindernumber     object\n",
       "enginesize          int64\n",
       "boreratio         float64\n",
       "horsepower          int64\n",
       "price             float64\n",
       "dtype: object"
      ]
     },
     "execution_count": 13,
     "metadata": {},
     "output_type": "execute_result"
    }
   ],
   "source": [
    "df_cor.dtypes"
   ]
  },
  {
   "cell_type": "code",
   "execution_count": 14,
   "metadata": {},
   "outputs": [],
   "source": [
    "# Последний шаг в подготовке данных: \n",
    "# линейная регрессия в python не справляется с категориальными переменными (типом object в pandas), \n",
    "# поэтому применяем pd.get_dummies() "
   ]
  },
  {
   "cell_type": "code",
   "execution_count": 15,
   "metadata": {},
   "outputs": [],
   "source": [
    "df_dummy = pd.get_dummies(data=df_cor[['company','fueltype','aspiration','carbody','drivewheel','enginetype','cylindernumber']], drop_first = True)"
   ]
  },
  {
   "cell_type": "code",
   "execution_count": 16,
   "metadata": {},
   "outputs": [],
   "source": [
    "cars_lr=pd.concat([df_cor.drop(['company','fueltype','aspiration','carbody','drivewheel','enginetype','cylindernumber'], axis='columns'),df_dummy],axis=1)"
   ]
  },
  {
   "cell_type": "code",
   "execution_count": 17,
   "metadata": {},
   "outputs": [
    {
     "data": {
      "text/plain": [
       "(205, 49)"
      ]
     },
     "execution_count": 17,
     "metadata": {},
     "output_type": "execute_result"
    }
   ],
   "source": [
    "cars_lr.shape"
   ]
  },
  {
   "cell_type": "code",
   "execution_count": 18,
   "metadata": {},
   "outputs": [],
   "source": [
    "# Сначала построим небольшую модель всего с одним предиктором цены (price) – horsepower."
   ]
  },
  {
   "cell_type": "code",
   "execution_count": 19,
   "metadata": {},
   "outputs": [],
   "source": [
    "import statsmodels.api as sm\n",
    "import statsmodels.formula.api as smf"
   ]
  },
  {
   "cell_type": "code",
   "execution_count": 20,
   "metadata": {},
   "outputs": [
    {
     "name": "stdout",
     "output_type": "stream",
     "text": [
      "                            OLS Regression Results                            \n",
      "==============================================================================\n",
      "Dep. Variable:                  price   R-squared:                       0.653\n",
      "Model:                            OLS   Adj. R-squared:                  0.651\n",
      "Method:                 Least Squares   F-statistic:                     382.2\n",
      "Date:                Fri, 30 Sep 2022   Prob (F-statistic):           1.48e-48\n",
      "Time:                        15:51:23   Log-Likelihood:                -2024.0\n",
      "No. Observations:                 205   AIC:                             4052.\n",
      "Df Residuals:                     203   BIC:                             4059.\n",
      "Df Model:                           1                                         \n",
      "Covariance Type:            nonrobust                                         \n",
      "==============================================================================\n",
      "                 coef    std err          t      P>|t|      [0.025      0.975]\n",
      "------------------------------------------------------------------------------\n",
      "Intercept  -3721.7615    929.849     -4.003      0.000   -5555.163   -1888.360\n",
      "horsepower   163.2631      8.351     19.549      0.000     146.796     179.730\n",
      "==============================================================================\n",
      "Omnibus:                       47.741   Durbin-Watson:                   0.792\n",
      "Prob(Omnibus):                  0.000   Jarque-Bera (JB):               91.702\n",
      "Skew:                           1.141   Prob(JB):                     1.22e-20\n",
      "Kurtosis:                       5.352   Cond. No.                         314.\n",
      "==============================================================================\n",
      "\n",
      "Notes:\n",
      "[1] Standard Errors assume that the covariance matrix of the errors is correctly specified.\n"
     ]
    }
   ],
   "source": [
    "results=smf.ols('price~horsepower',cars_lr).fit()\n",
    "print(results.summary())"
   ]
  },
  {
   "cell_type": "code",
   "execution_count": 21,
   "metadata": {},
   "outputs": [],
   "source": [
    "# Теперь – две модели:\n",
    "# 1) модель со всеми предикторами"
   ]
  },
  {
   "cell_type": "code",
   "execution_count": 22,
   "metadata": {},
   "outputs": [
    {
     "name": "stderr",
     "output_type": "stream",
     "text": [
      "C:\\Anaconda\\lib\\site-packages\\statsmodels\\tsa\\tsatools.py:142: FutureWarning: In a future version of pandas all arguments of concat except for the argument 'objs' will be keyword-only\n",
      "  x = pd.concat(x[::order], 1)\n"
     ]
    }
   ],
   "source": [
    "X=cars_lr.drop(['price'], axis='columns')\n",
    "X=sm.add_constant(X)\n",
    "y=cars_lr['price']"
   ]
  },
  {
   "cell_type": "code",
   "execution_count": 23,
   "metadata": {},
   "outputs": [
    {
     "name": "stdout",
     "output_type": "stream",
     "text": [
      "                            OLS Regression Results                            \n",
      "==============================================================================\n",
      "Dep. Variable:                  price   R-squared:                       0.959\n",
      "Model:                            OLS   Adj. R-squared:                  0.948\n",
      "Method:                 Least Squares   F-statistic:                     81.09\n",
      "Date:                Fri, 30 Sep 2022   Prob (F-statistic):           4.86e-89\n",
      "Time:                        15:51:24   Log-Likelihood:                -1804.2\n",
      "No. Observations:                 205   AIC:                             3702.\n",
      "Df Residuals:                     158   BIC:                             3858.\n",
      "Df Model:                          46                                         \n",
      "Covariance Type:            nonrobust                                         \n",
      "=========================================================================================\n",
      "                            coef    std err          t      P>|t|      [0.025      0.975]\n",
      "-----------------------------------------------------------------------------------------\n",
      "const                 -3.472e+04   1.17e+04     -2.959      0.004   -5.79e+04   -1.15e+04\n",
      "wheelbase               147.1396     76.234      1.930      0.055      -3.429     297.708\n",
      "carlength              -113.2012     48.949     -2.313      0.022    -209.881     -16.522\n",
      "carwidth                809.1860    214.508      3.772      0.000     385.514    1232.858\n",
      "curbweight                4.1822      1.582      2.643      0.009       1.057       7.307\n",
      "enginesize               61.4212     23.643      2.598      0.010      14.724     108.119\n",
      "boreratio             -4319.4728   1759.825     -2.454      0.015   -7795.288    -843.657\n",
      "horsepower               34.7010     18.000      1.928      0.056      -0.850      70.252\n",
      "company_audi            437.1040   2125.971      0.206      0.837   -3761.885    4636.093\n",
      "company_bmw            7993.4998   2105.132      3.797      0.000    3835.671    1.22e+04\n",
      "company_buick          3431.0969   2472.252      1.388      0.167   -1451.829    8314.023\n",
      "company_chevrolet     -2107.0167   2054.269     -1.026      0.307   -6164.387    1950.353\n",
      "company_dodge         -3034.5530   1686.337     -1.799      0.074   -6365.224     296.118\n",
      "company_honda         -2328.7396   1622.141     -1.436      0.153   -5532.617     875.138\n",
      "company_isuzu          -926.1643   1819.489     -0.509      0.611   -4519.823    2667.495\n",
      "company_jaguar         2695.2664   2546.268      1.059      0.291   -2333.847    7724.379\n",
      "company_mazda         -1291.5657   1652.561     -0.782      0.436   -4555.527    1972.395\n",
      "company_mercury       -2762.0259   2786.701     -0.991      0.323   -8266.016    2741.965\n",
      "company_mitsubishi    -3699.6473   1650.046     -2.242      0.026   -6958.640    -440.654\n",
      "company_nissan        -1488.1217   1563.564     -0.952      0.343   -4576.305    1600.061\n",
      "company_peugeot       -2671.4595   1795.328     -1.488      0.139   -6217.398     874.479\n",
      "company_plymouth      -3052.1258   1670.829     -1.827      0.070   -6352.166     247.915\n",
      "company_porsche        4915.9715   2797.761      1.757      0.081    -609.864    1.04e+04\n",
      "company_renault       -2865.2197   2073.046     -1.382      0.169   -6959.676    1229.237\n",
      "company_saab            719.8222   1767.620      0.407      0.684   -2771.390    4211.035\n",
      "company_subaru        -1.164e+04   3416.221     -3.407      0.001   -1.84e+04   -4892.375\n",
      "company_toyota        -2608.7871   1539.320     -1.695      0.092   -5649.086     431.512\n",
      "company_volkswagen    -2261.9355   1606.886     -1.408      0.161   -5435.683     911.812\n",
      "company_volvo            68.2605   1943.170      0.035      0.972   -3769.679    3906.200\n",
      "fueltype_gas           -243.7792    908.310     -0.268      0.789   -2037.774    1550.216\n",
      "aspiration_turbo        596.6566    676.548      0.882      0.379    -739.588    1932.902\n",
      "carbody_hardtop       -2556.7157   1213.929     -2.106      0.037   -4954.337    -159.094\n",
      "carbody_hatchback     -3044.4196   1107.064     -2.750      0.007   -5230.972    -857.867\n",
      "carbody_sedan         -2256.9173   1154.971     -1.954      0.052   -4538.090      24.256\n",
      "carbody_wagon         -2815.4970   1223.156     -2.302      0.023   -5231.343    -399.651\n",
      "drivewheel_fwd         -169.4926    888.585     -0.191      0.849   -1924.531    1585.545\n",
      "drivewheel_rwd          231.9066   1039.685      0.223      0.824   -1821.566    2285.380\n",
      "enginetype_dohcv      -8358.0756   4326.239     -1.932      0.055   -1.69e+04     186.645\n",
      "enginetype_l          -1067.3120   1602.125     -0.666      0.506   -4231.657    2097.033\n",
      "enginetype_ohc         -273.7175   1063.557     -0.257      0.797   -2374.341    1826.906\n",
      "enginetype_ohcf        1.031e+04   2672.508      3.857      0.000    5028.873    1.56e+04\n",
      "enginetype_ohcv       -2393.8587   1214.631     -1.971      0.050   -4792.867       5.150\n",
      "enginetype_rotor         37.4715   2092.597      0.018      0.986   -4095.600    4170.543\n",
      "cylindernumber_five   -5235.5232   2887.214     -1.813      0.072   -1.09e+04     466.990\n",
      "cylindernumber_four   -3741.3604   3542.130     -1.056      0.292   -1.07e+04    3254.673\n",
      "cylindernumber_six    -5441.5317   2628.646     -2.070      0.040   -1.06e+04    -249.713\n",
      "cylindernumber_three   1604.1476   2774.698      0.578      0.564   -3876.137    7084.432\n",
      "cylindernumber_twelve -8097.1585   3616.336     -2.239      0.027   -1.52e+04    -954.561\n",
      "cylindernumber_two       37.4715   2092.597      0.018      0.986   -4095.600    4170.543\n",
      "==============================================================================\n",
      "Omnibus:                       81.075   Durbin-Watson:                   1.382\n",
      "Prob(Omnibus):                  0.000   Jarque-Bera (JB):              487.187\n",
      "Skew:                           1.379   Prob(JB):                    1.62e-106\n",
      "Kurtosis:                      10.031   Cond. No.                     1.02e+16\n",
      "==============================================================================\n",
      "\n",
      "Notes:\n",
      "[1] Standard Errors assume that the covariance matrix of the errors is correctly specified.\n",
      "[2] The smallest eigenvalue is 1.35e-23. This might indicate that there are\n",
      "strong multicollinearity problems or that the design matrix is singular.\n"
     ]
    }
   ],
   "source": [
    "model=sm.OLS(y,X)\n",
    "results=model.fit()\n",
    "print(results.summary())"
   ]
  },
  {
   "cell_type": "code",
   "execution_count": 24,
   "metadata": {},
   "outputs": [],
   "source": [
    "# 2) модель со всеми предикторами, кроме марок машин"
   ]
  },
  {
   "cell_type": "code",
   "execution_count": 25,
   "metadata": {},
   "outputs": [
    {
     "data": {
      "text/plain": [
       "Index(['wheelbase', 'carlength', 'carwidth', 'curbweight', 'enginesize',\n",
       "       'boreratio', 'horsepower', 'price', 'company_audi', 'company_bmw',\n",
       "       'company_buick', 'company_chevrolet', 'company_dodge', 'company_honda',\n",
       "       'company_isuzu', 'company_jaguar', 'company_mazda', 'company_mercury',\n",
       "       'company_mitsubishi', 'company_nissan', 'company_peugeot',\n",
       "       'company_plymouth', 'company_porsche', 'company_renault',\n",
       "       'company_saab', 'company_subaru', 'company_toyota',\n",
       "       'company_volkswagen', 'company_volvo', 'fueltype_gas',\n",
       "       'aspiration_turbo', 'carbody_hardtop', 'carbody_hatchback',\n",
       "       'carbody_sedan', 'carbody_wagon', 'drivewheel_fwd', 'drivewheel_rwd',\n",
       "       'enginetype_dohcv', 'enginetype_l', 'enginetype_ohc', 'enginetype_ohcf',\n",
       "       'enginetype_ohcv', 'enginetype_rotor', 'cylindernumber_five',\n",
       "       'cylindernumber_four', 'cylindernumber_six', 'cylindernumber_three',\n",
       "       'cylindernumber_twelve', 'cylindernumber_two'],\n",
       "      dtype='object')"
      ]
     },
     "execution_count": 25,
     "metadata": {},
     "output_type": "execute_result"
    }
   ],
   "source": [
    "cars_lr.columns"
   ]
  },
  {
   "cell_type": "code",
   "execution_count": 26,
   "metadata": {},
   "outputs": [],
   "source": [
    "# марки машин можно убрать с помощью .drop([перечисление колонок через запятую],axis='columns') \n",
    "# или через вот такую конструкцию с тильдой [~cars_lr.columns.str.startswith('company_')]\n",
    "cols_to_keep=cars_lr.columns[~cars_lr.columns.str.startswith('company_')]"
   ]
  },
  {
   "cell_type": "code",
   "execution_count": 27,
   "metadata": {},
   "outputs": [
    {
     "name": "stderr",
     "output_type": "stream",
     "text": [
      "C:\\Anaconda\\lib\\site-packages\\statsmodels\\tsa\\tsatools.py:142: FutureWarning: In a future version of pandas all arguments of concat except for the argument 'objs' will be keyword-only\n",
      "  x = pd.concat(x[::order], 1)\n"
     ]
    }
   ],
   "source": [
    "X=cars_lr[cols_to_keep].drop('price', axis='columns')\n",
    "X=sm.add_constant(X)\n",
    "y=cars_lr['price']"
   ]
  },
  {
   "cell_type": "code",
   "execution_count": 28,
   "metadata": {},
   "outputs": [
    {
     "name": "stdout",
     "output_type": "stream",
     "text": [
      "                            OLS Regression Results                            \n",
      "==============================================================================\n",
      "Dep. Variable:                  price   R-squared:                       0.914\n",
      "Model:                            OLS   Adj. R-squared:                  0.901\n",
      "Method:                 Least Squares   F-statistic:                     72.32\n",
      "Date:                Fri, 30 Sep 2022   Prob (F-statistic):           9.86e-81\n",
      "Time:                        15:51:24   Log-Likelihood:                -1881.6\n",
      "No. Observations:                 205   AIC:                             3817.\n",
      "Df Residuals:                     178   BIC:                             3907.\n",
      "Df Model:                          26                                         \n",
      "Covariance Type:            nonrobust                                         \n",
      "=========================================================================================\n",
      "                            coef    std err          t      P>|t|      [0.025      0.975]\n",
      "-----------------------------------------------------------------------------------------\n",
      "const                   -1.7e+04    1.3e+04     -1.309      0.192   -4.26e+04    8625.219\n",
      "wheelbase                71.1868     87.028      0.818      0.414    -100.552     242.925\n",
      "carlength               -51.3497     50.341     -1.020      0.309    -150.692      47.993\n",
      "carwidth                541.8700    253.327      2.139      0.034      41.958    1041.782\n",
      "curbweight                2.9577      1.796      1.647      0.101      -0.585       6.501\n",
      "enginesize               36.0515     22.376      1.611      0.109      -8.105      80.208\n",
      "boreratio             -2230.4519   1731.681     -1.288      0.199   -5647.719    1186.815\n",
      "horsepower               86.8164     16.717      5.193      0.000      53.827     119.806\n",
      "fueltype_gas          -2423.0935    975.579     -2.484      0.014   -4348.283    -497.904\n",
      "aspiration_turbo      -1139.2334    787.230     -1.447      0.150   -2692.738     414.271\n",
      "carbody_hardtop       -3728.0949   1519.366     -2.454      0.015   -6726.383    -729.807\n",
      "carbody_hatchback     -4639.1279   1294.594     -3.583      0.000   -7193.855   -2084.401\n",
      "carbody_sedan         -3337.7854   1356.075     -2.461      0.015   -6013.838    -661.732\n",
      "carbody_wagon         -4315.4661   1465.089     -2.946      0.004   -7206.646   -1424.287\n",
      "drivewheel_fwd          297.2402   1121.766      0.265      0.791   -1916.431    2510.912\n",
      "drivewheel_rwd         1939.1594   1226.536      1.581      0.116    -481.263    4359.582\n",
      "enginetype_dohcv      -1.713e+04   4540.120     -3.773      0.000   -2.61e+04   -8171.142\n",
      "enginetype_l           2176.0521   1332.818      1.633      0.104    -454.106    4806.211\n",
      "enginetype_ohc         4006.5687    897.437      4.464      0.000    2235.584    5777.553\n",
      "enginetype_ohcf        5421.2822   1388.078      3.906      0.000    2682.076    8160.488\n",
      "enginetype_ohcv       -5001.2242   1345.435     -3.717      0.000   -7656.280   -2346.169\n",
      "enginetype_rotor      -5196.6413   2084.532     -2.493      0.014   -9310.217   -1083.066\n",
      "cylindernumber_five   -1.389e+04   2891.599     -4.802      0.000   -1.96e+04   -8180.353\n",
      "cylindernumber_four   -1.618e+04   3243.610     -4.989      0.000   -2.26e+04   -9780.800\n",
      "cylindernumber_six    -1.175e+04   2287.516     -5.135      0.000   -1.63e+04   -7231.547\n",
      "cylindernumber_three  -9264.0553   4750.899     -1.950      0.053   -1.86e+04     111.279\n",
      "cylindernumber_twelve -1.214e+04   3386.507     -3.585      0.000   -1.88e+04   -5458.378\n",
      "cylindernumber_two    -5196.6413   2084.532     -2.493      0.014   -9310.217   -1083.066\n",
      "==============================================================================\n",
      "Omnibus:                       18.493   Durbin-Watson:                   1.249\n",
      "Prob(Omnibus):                  0.000   Jarque-Bera (JB):               50.728\n",
      "Skew:                           0.293   Prob(JB):                     9.65e-12\n",
      "Kurtosis:                       5.365   Cond. No.                     1.02e+16\n",
      "==============================================================================\n",
      "\n",
      "Notes:\n",
      "[1] Standard Errors assume that the covariance matrix of the errors is correctly specified.\n",
      "[2] The smallest eigenvalue is 1.35e-23. This might indicate that there are\n",
      "strong multicollinearity problems or that the design matrix is singular.\n"
     ]
    }
   ],
   "source": [
    "model_2=sm.OLS(y,X)\n",
    "results_2=model_2.fit()\n",
    "print(results_2.summary())"
   ]
  },
  {
   "cell_type": "markdown",
   "metadata": {},
   "source": [
    "### Выбранная модель объясняет примерно 90 % дисперсии (окр. до целого). Среди предикторов 10 из 27 оказались не значимыми (p > 0.05). При единичном изменении показателя horsepower, цена ВОЗРАСТАЕТ на 86.8164"
   ]
  },
  {
   "cell_type": "code",
   "execution_count": null,
   "metadata": {},
   "outputs": [],
   "source": []
  }
 ],
 "metadata": {
  "kernelspec": {
   "display_name": "Python 3 (ipykernel)",
   "language": "python",
   "name": "python3"
  },
  "language_info": {
   "codemirror_mode": {
    "name": "ipython",
    "version": 3
   },
   "file_extension": ".py",
   "mimetype": "text/x-python",
   "name": "python",
   "nbconvert_exporter": "python",
   "pygments_lexer": "ipython3",
   "version": "3.9.7"
  }
 },
 "nbformat": 4,
 "nbformat_minor": 4
}
