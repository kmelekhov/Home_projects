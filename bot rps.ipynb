{
 "cells": [
  {
   "cell_type": "code",
   "execution_count": 36,
   "id": "4c00963c",
   "metadata": {},
   "outputs": [],
   "source": [
    "!pip install -q -U kaggle_environments"
   ]
  },
  {
   "cell_type": "code",
   "execution_count": 37,
   "id": "34d6e026",
   "metadata": {},
   "outputs": [],
   "source": [
    "import numpy as np\n",
    "import pandas as pd\n",
    "import random\n",
    "\n",
    "import matplotlib.pyplot as plt\n",
    "import seaborn as sns\n",
    "\n",
    "from kaggle_environments import make, evaluate"
   ]
  },
  {
   "cell_type": "markdown",
   "id": "5c289f47",
   "metadata": {},
   "source": [
    "# Агент 1"
   ]
  },
  {
   "cell_type": "code",
   "execution_count": 38,
   "id": "8c97114e",
   "metadata": {},
   "outputs": [
    {
     "name": "stdout",
     "output_type": "stream",
     "text": [
      "Writing rock_agent.py\n"
     ]
    }
   ],
   "source": [
    "%%writefile rock_agent.py\n",
    "\n",
    "#0 - rock\n",
    "#1 - paper\n",
    "#2 - scissors\n",
    "def rock_agent(observation, configuration):\n",
    "    return 0"
   ]
  },
  {
   "cell_type": "code",
   "execution_count": 39,
   "id": "1704ec4f",
   "metadata": {},
   "outputs": [
    {
     "data": {
      "text/plain": [
       "[[-98.0, 98.0]]"
      ]
     },
     "execution_count": 39,
     "metadata": {},
     "output_type": "execute_result"
    }
   ],
   "source": [
    "evaluate(\n",
    "    \"rps\", #environment to use - no need to change\n",
    "    [\"rock_agent.py\", \"statistical\"], #agents to evaluate\n",
    "    configuration={\"episodeSteps\": 100}, #number of episodes\n",
    ")"
   ]
  },
  {
   "cell_type": "markdown",
   "id": "515f9544",
   "metadata": {},
   "source": [
    "# Агент 2"
   ]
  },
  {
   "cell_type": "code",
   "execution_count": 40,
   "id": "a42fabe8",
   "metadata": {},
   "outputs": [
    {
     "name": "stdout",
     "output_type": "stream",
     "text": [
      "Writing paper_agent.py\n"
     ]
    }
   ],
   "source": [
    "%%writefile paper_agent.py\n",
    "\n",
    "def paper_agent(observation, configuration):\n",
    "    return 1"
   ]
  },
  {
   "cell_type": "code",
   "execution_count": 41,
   "id": "319ab77b",
   "metadata": {},
   "outputs": [
    {
     "data": {
      "text/plain": [
       "[[-97.0, 97.0]]"
      ]
     },
     "execution_count": 41,
     "metadata": {},
     "output_type": "execute_result"
    }
   ],
   "source": [
    "evaluate(\n",
    "    \"rps\", #environment to use - no need to change\n",
    "    [\"paper_agent.py\", \"statistical\"], #agents to evaluate\n",
    "    configuration={\"episodeSteps\": 100} #number of episodes \n",
    ")"
   ]
  },
  {
   "cell_type": "markdown",
   "id": "92fccb28",
   "metadata": {},
   "source": [
    "# Агент 3"
   ]
  },
  {
   "cell_type": "code",
   "execution_count": 42,
   "id": "6a1dd3c2",
   "metadata": {},
   "outputs": [
    {
     "name": "stdout",
     "output_type": "stream",
     "text": [
      "Writing scissors_agent.py\n"
     ]
    }
   ],
   "source": [
    "%%writefile scissors_agent.py\n",
    "\n",
    "def scissors_agent(observation, configuration):\n",
    "    return 2"
   ]
  },
  {
   "cell_type": "code",
   "execution_count": 43,
   "id": "2e3825c8",
   "metadata": {},
   "outputs": [
    {
     "data": {
      "text/plain": [
       "[[-99.0, 99.0]]"
      ]
     },
     "execution_count": 43,
     "metadata": {},
     "output_type": "execute_result"
    }
   ],
   "source": [
    "evaluate(\n",
    "    \"rps\", #environment to use - no need to change\n",
    "    [\"scissors_agent.py\", \"statistical\"], #agents to evaluate\n",
    "    configuration={\"episodeSteps\": 100}, #number of episodes\n",
    ")"
   ]
  },
  {
   "cell_type": "markdown",
   "id": "667a5fef",
   "metadata": {},
   "source": [
    "# Агент 4"
   ]
  },
  {
   "cell_type": "code",
   "execution_count": 44,
   "id": "65aadd08",
   "metadata": {},
   "outputs": [
    {
     "name": "stdout",
     "output_type": "stream",
     "text": [
      "Writing rnd_opponent.py\n"
     ]
    }
   ],
   "source": [
    "%%writefile rnd_opponent.py\n",
    "\n",
    "import random\n",
    "\n",
    "def rnd_opponent(observation, configuration):\n",
    "    return random.randrange(0, configuration.signs)"
   ]
  },
  {
   "cell_type": "code",
   "execution_count": 45,
   "id": "9df605fe",
   "metadata": {},
   "outputs": [
    {
     "data": {
      "text/plain": [
       "[[0, 0]]"
      ]
     },
     "execution_count": 45,
     "metadata": {},
     "output_type": "execute_result"
    }
   ],
   "source": [
    "evaluate(\n",
    "    \"rps\", #environment to use - no need to change\n",
    "    [\"rnd_opponent.py\", \"statistical\"], #agents to evaluate\n",
    "    configuration={\"episodeSteps\": 100}, #number of episodes\n",
    ")"
   ]
  },
  {
   "cell_type": "markdown",
   "id": "e76dfa59",
   "metadata": {},
   "source": [
    "# Агент 5"
   ]
  },
  {
   "cell_type": "code",
   "execution_count": 46,
   "id": "2049d875",
   "metadata": {},
   "outputs": [
    {
     "name": "stdout",
     "output_type": "stream",
     "text": [
      "Writing copy_opponent.py\n"
     ]
    }
   ],
   "source": [
    "%%writefile copy_opponent.py\n",
    "\n",
    "import random\n",
    "\n",
    "def copy_opponent(observation, configuration):\n",
    "    if observation.step > 0:\n",
    "        return observation.lastOpponentAction\n",
    "    else:\n",
    "        return random.randrange(0, configuration.signs)"
   ]
  },
  {
   "cell_type": "code",
   "execution_count": 47,
   "id": "4c5027f3",
   "metadata": {},
   "outputs": [
    {
     "data": {
      "text/plain": [
       "[[-21.0, 21.0]]"
      ]
     },
     "execution_count": 47,
     "metadata": {},
     "output_type": "execute_result"
    }
   ],
   "source": [
    "evaluate(\n",
    "    \"rps\", #environment to use - no need to change\n",
    "    [\"copy_opponent.py\", \"statistical\"], #agents to evaluate\n",
    "    configuration={\"episodeSteps\": 100}, #number of episodes\n",
    ")"
   ]
  },
  {
   "cell_type": "markdown",
   "id": "a0058b8f",
   "metadata": {},
   "source": [
    "# Агент 6"
   ]
  },
  {
   "cell_type": "code",
   "execution_count": 48,
   "id": "3bbacba0",
   "metadata": {},
   "outputs": [
    {
     "name": "stdout",
     "output_type": "stream",
     "text": [
      "Writing copy_next_opponent.py\n"
     ]
    }
   ],
   "source": [
    "%%writefile copy_next_opponent.py\n",
    "\n",
    "import random\n",
    "\n",
    "def copy_next_opponent(observation, configuration):\n",
    "    if observation.step > 0:\n",
    "        return (observation.lastOpponentAction + 1) % configuration.signs\n",
    "    else:\n",
    "        return random.randrange(0, configuration.signs)"
   ]
  },
  {
   "cell_type": "code",
   "execution_count": 49,
   "id": "dfb72f5e",
   "metadata": {},
   "outputs": [
    {
     "data": {
      "text/plain": [
       "[[59.0, -59.0]]"
      ]
     },
     "execution_count": 49,
     "metadata": {},
     "output_type": "execute_result"
    }
   ],
   "source": [
    "evaluate(\n",
    "    \"rps\", #environment to use - no need to change\n",
    "    [\"copy_next_opponent.py\", \"statistical\"], #agents to evaluate\n",
    "    configuration={\"episodeSteps\": 100}, #number of episodes\n",
    ")"
   ]
  },
  {
   "cell_type": "markdown",
   "id": "f9d04909",
   "metadata": {},
   "source": [
    "# Агент 7"
   ]
  },
  {
   "cell_type": "code",
   "execution_count": 50,
   "id": "20767aba",
   "metadata": {},
   "outputs": [
    {
     "name": "stdout",
     "output_type": "stream",
     "text": [
      "Writing copy_prev_opponent.py\n"
     ]
    }
   ],
   "source": [
    "%%writefile copy_prev_opponent.py\n",
    "\n",
    "import random\n",
    "\n",
    "def copy_prev_opponent(observation, configuration):\n",
    "    if observation.step > 0:\n",
    "        return (observation.lastOpponentAction + 2) % configuration.signs\n",
    "    else:\n",
    "        return random.randrange(0, configuration.signs)"
   ]
  },
  {
   "cell_type": "code",
   "execution_count": 51,
   "id": "87470da8",
   "metadata": {},
   "outputs": [
    {
     "data": {
      "text/plain": [
       "[[-96.0, 96.0]]"
      ]
     },
     "execution_count": 51,
     "metadata": {},
     "output_type": "execute_result"
    }
   ],
   "source": [
    "evaluate(\n",
    "    \"rps\", #environment to use - no need to change\n",
    "    [\"copy_prev_opponent.py\", \"statistical\"], #agents to evaluate\n",
    "    configuration={\"episodeSteps\": 100}, #number of episodes\n",
    ")"
   ]
  },
  {
   "cell_type": "markdown",
   "id": "f769cf31",
   "metadata": {},
   "source": [
    "# Агент 8"
   ]
  },
  {
   "cell_type": "code",
   "execution_count": 52,
   "id": "798ae13e",
   "metadata": {},
   "outputs": [
    {
     "name": "stdout",
     "output_type": "stream",
     "text": [
      "Writing opp_agent.py\n"
     ]
    }
   ],
   "source": [
    "%%writefile opp_agent.py\n",
    "\n",
    "import random\n",
    "\n",
    "def opp_agent(observation, configuration):\n",
    "    if observation.step > 0:\n",
    "        if observation.lastOpponentAction == 0:\n",
    "            return random.choice([1,2])\n",
    "        elif observation.lastOpponentAction == 1:\n",
    "            return random.choice([0,2])\n",
    "        else:\n",
    "            return random.choice([1,0])\n",
    "    else:\n",
    "        return random.randrange(0, configuration.signs)"
   ]
  },
  {
   "cell_type": "code",
   "execution_count": 53,
   "id": "0099875b",
   "metadata": {},
   "outputs": [
    {
     "data": {
      "text/plain": [
       "[[0, 0]]"
      ]
     },
     "execution_count": 53,
     "metadata": {},
     "output_type": "execute_result"
    }
   ],
   "source": [
    "evaluate(\n",
    "    \"rps\", #environment to use - no need to change\n",
    "    [\"opp_agent.py\", \"statistical\"], #agents to evaluate\n",
    "    configuration={\"episodeSteps\": 100}, #number of episodes\n",
    ")"
   ]
  },
  {
   "cell_type": "markdown",
   "id": "17b1c451",
   "metadata": {},
   "source": [
    "# Агент 9"
   ]
  },
  {
   "cell_type": "code",
   "execution_count": 54,
   "id": "169e87b8",
   "metadata": {},
   "outputs": [
    {
     "name": "stdout",
     "output_type": "stream",
     "text": [
      "Writing submission.py\n"
     ]
    }
   ],
   "source": [
    "%%writefile submission.py\n",
    "\n",
    "def submission(observation, configuration):   \n",
    "    if observation.step > 0:\n",
    "        opponent_action = observation.lastOpponentAction\n",
    "        your_action = (opponent_action +1) % 3\n",
    "        return your_action   \n",
    "    else:\n",
    "        return 1"
   ]
  },
  {
   "cell_type": "code",
   "execution_count": 55,
   "id": "47c68b72",
   "metadata": {},
   "outputs": [
    {
     "data": {
      "text/plain": [
       "[[59.0, -59.0]]"
      ]
     },
     "execution_count": 55,
     "metadata": {},
     "output_type": "execute_result"
    }
   ],
   "source": [
    "evaluate(\n",
    "    \"rps\", #environment to use - no need to change\n",
    "    [\"submission.py\", \"statistical\"], #agents to evaluate\n",
    "    configuration={\"episodeSteps\": 100}, #number of episodes\n",
    ")"
   ]
  },
  {
   "cell_type": "markdown",
   "id": "5b62cee6",
   "metadata": {},
   "source": [
    "# Агент 10"
   ]
  },
  {
   "cell_type": "code",
   "execution_count": 56,
   "id": "5564683c",
   "metadata": {},
   "outputs": [
    {
     "name": "stdout",
     "output_type": "stream",
     "text": [
      "Writing win_react_1.py\n"
     ]
    }
   ],
   "source": [
    "%%writefile win_react_1.py\n",
    "\n",
    "import math\n",
    "def get_score(left_move, right_move):\n",
    "    delta = (\n",
    "        right_move - left_move\n",
    "        if (left_move + right_move) % 2 == 0\n",
    "        else left_move - right_move\n",
    "    )\n",
    "    return 0 if delta == 0 else math.copysign(1, delta)\n",
    "import random\n",
    "lastAction = None\n",
    "def win_reaction1(observation, configuration):\n",
    "    global lastAction\n",
    "    if observation.step == 0:\n",
    "        lastAction = random.randrange(0, configuration.signs)\n",
    "    elif get_score(lastAction, observation.lastOpponentAction) < 1:\n",
    "        lastAction = (lastAction + 1) % configuration.signs\n",
    "    return lastAction"
   ]
  },
  {
   "cell_type": "code",
   "execution_count": 57,
   "id": "2f87b901",
   "metadata": {},
   "outputs": [
    {
     "data": {
      "text/plain": [
       "[[27.0, -27.0]]"
      ]
     },
     "execution_count": 57,
     "metadata": {},
     "output_type": "execute_result"
    }
   ],
   "source": [
    "evaluate(\n",
    "    \"rps\", #environment to use - no need to change\n",
    "    [\"win_react_1.py\", \"statistical\"], #agents to evaluate\n",
    "    configuration={\"episodeSteps\": 100}, #number of episodes\n",
    ")"
   ]
  },
  {
   "cell_type": "markdown",
   "id": "c1daeb5d",
   "metadata": {},
   "source": [
    "# Агент 11"
   ]
  },
  {
   "cell_type": "code",
   "execution_count": 58,
   "id": "45470b2b",
   "metadata": {},
   "outputs": [
    {
     "name": "stdout",
     "output_type": "stream",
     "text": [
      "Writing win_react_2.py\n"
     ]
    }
   ],
   "source": [
    "%%writefile win_react_2.py\n",
    "\n",
    "import math\n",
    "def get_score(left_move, right_move):\n",
    "    delta = (\n",
    "        right_move - left_move\n",
    "        if (left_move + right_move) % 2 == 0\n",
    "        else left_move - right_move\n",
    "    )\n",
    "    return 0 if delta == 0 else math.copysign(1, delta)\n",
    "import random\n",
    "lastAction = None\n",
    "def win_reaction2(observation, configuration):\n",
    "    global lastAction\n",
    "    if observation.step == 0:\n",
    "        lastAction = random.randrange(0, configuration.signs)\n",
    "    elif get_score(lastAction, observation.lastOpponentAction) < 1:\n",
    "        lastAction = (lastAction + 2) % configuration.signs\n",
    "    return lastAction"
   ]
  },
  {
   "cell_type": "code",
   "execution_count": 59,
   "id": "d9c66e71",
   "metadata": {},
   "outputs": [
    {
     "data": {
      "text/plain": [
       "[[57.0, -57.0]]"
      ]
     },
     "execution_count": 59,
     "metadata": {},
     "output_type": "execute_result"
    }
   ],
   "source": [
    "evaluate(\n",
    "    \"rps\", #environment to use - no need to change\n",
    "    [\"win_react_2.py\", \"statistical\"], #agents to evaluate\n",
    "    configuration={\"episodeSteps\": 100}, #number of episodes\n",
    ")"
   ]
  },
  {
   "cell_type": "markdown",
   "id": "125f0107",
   "metadata": {},
   "source": [
    "# Агент 12"
   ]
  },
  {
   "cell_type": "code",
   "execution_count": 60,
   "id": "f596515b",
   "metadata": {},
   "outputs": [
    {
     "name": "stdout",
     "output_type": "stream",
     "text": [
      "Writing rock_paper_scissors_agent.py\n"
     ]
    }
   ],
   "source": [
    "%%writefile rock_paper_scissors_agent.py\n",
    "\n",
    "counter = -1\n",
    "def sequence(observation, configuration):\n",
    "    global counter\n",
    "    counter += 1\n",
    "    if counter % 3 == 0:\n",
    "        return 0\n",
    "    elif counter % 3 == 1:\n",
    "        return 1\n",
    "    else:\n",
    "        return 2"
   ]
  },
  {
   "cell_type": "code",
   "execution_count": 61,
   "id": "a15a6d7c",
   "metadata": {},
   "outputs": [
    {
     "data": {
      "text/plain": [
       "[[0, 0]]"
      ]
     },
     "execution_count": 61,
     "metadata": {},
     "output_type": "execute_result"
    }
   ],
   "source": [
    "evaluate(\n",
    "    \"rps\", #environment to use - no need to change\n",
    "    [\"rock_paper_scissors_agent.py\", \"statistical\"], #agents to evaluate\n",
    "    configuration={\"episodeSteps\": 100}, #number of episodes\n",
    ")"
   ]
  },
  {
   "cell_type": "markdown",
   "id": "d29ca8af",
   "metadata": {},
   "source": [
    "# Соревнование"
   ]
  },
  {
   "cell_type": "code",
   "execution_count": 62,
   "id": "91b6451a",
   "metadata": {},
   "outputs": [],
   "source": [
    "agents = ['rock_agent.py',\n",
    "          'paper_agent.py',\n",
    "          'scissors_agent.py',\n",
    "          'rnd_opponent.py',\n",
    "          'copy_opponent.py',\n",
    "          'copy_next_opponent.py',\n",
    "          'copy_prev_opponent.py',\n",
    "          'opp_agent.py', \n",
    "          'submission.py', \n",
    "          'win_react_1.py', \n",
    "          'win_react_2.py', \n",
    "          'rock_paper_scissors_agent.py']"
   ]
  },
  {
   "cell_type": "code",
   "execution_count": 65,
   "id": "328cbc00",
   "metadata": {},
   "outputs": [],
   "source": [
    "rank = {agent: 0 for agent in agents}\n",
    "\n",
    "for games in range(3):          \n",
    "    for i in range(len(agents)):\n",
    "        for j in range(i+1, len(agents)):\n",
    "            res = evaluate(\n",
    "            \"rps\", \n",
    "            [agents[i], agents[j]], \n",
    "            configuration={\"episodeSteps\": 100, 'tieRewardThreshold': 1} \n",
    "            )\n",
    "            if res[0][0] > res[0][1]:\n",
    "                rank[agents[i]] += 1\n",
    "            elif res[0][0] < res[0][1]:\n",
    "                rank[agents[j]] += 1"
   ]
  },
  {
   "cell_type": "code",
   "execution_count": 66,
   "id": "595fc0df",
   "metadata": {},
   "outputs": [
    {
     "data": {
      "text/html": [
       "<div>\n",
       "<style scoped>\n",
       "    .dataframe tbody tr th:only-of-type {\n",
       "        vertical-align: middle;\n",
       "    }\n",
       "\n",
       "    .dataframe tbody tr th {\n",
       "        vertical-align: top;\n",
       "    }\n",
       "\n",
       "    .dataframe thead th {\n",
       "        text-align: right;\n",
       "    }\n",
       "</style>\n",
       "<table border=\"1\" class=\"dataframe\">\n",
       "  <thead>\n",
       "    <tr style=\"text-align: right;\">\n",
       "      <th></th>\n",
       "      <th>Количество побед</th>\n",
       "    </tr>\n",
       "  </thead>\n",
       "  <tbody>\n",
       "    <tr>\n",
       "      <th>win_react_2.py</th>\n",
       "      <td>24</td>\n",
       "    </tr>\n",
       "    <tr>\n",
       "      <th>submission.py</th>\n",
       "      <td>23</td>\n",
       "    </tr>\n",
       "    <tr>\n",
       "      <th>copy_next_opponent.py</th>\n",
       "      <td>22</td>\n",
       "    </tr>\n",
       "    <tr>\n",
       "      <th>win_react_1.py</th>\n",
       "      <td>18</td>\n",
       "    </tr>\n",
       "    <tr>\n",
       "      <th>opp_agent.py</th>\n",
       "      <td>15</td>\n",
       "    </tr>\n",
       "    <tr>\n",
       "      <th>rock_agent.py</th>\n",
       "      <td>14</td>\n",
       "    </tr>\n",
       "    <tr>\n",
       "      <th>rnd_opponent.py</th>\n",
       "      <td>12</td>\n",
       "    </tr>\n",
       "    <tr>\n",
       "      <th>copy_opponent.py</th>\n",
       "      <td>12</td>\n",
       "    </tr>\n",
       "    <tr>\n",
       "      <th>copy_prev_opponent.py</th>\n",
       "      <td>12</td>\n",
       "    </tr>\n",
       "    <tr>\n",
       "      <th>scissors_agent.py</th>\n",
       "      <td>11</td>\n",
       "    </tr>\n",
       "    <tr>\n",
       "      <th>paper_agent.py</th>\n",
       "      <td>9</td>\n",
       "    </tr>\n",
       "    <tr>\n",
       "      <th>rock_paper_scissors_agent.py</th>\n",
       "      <td>7</td>\n",
       "    </tr>\n",
       "  </tbody>\n",
       "</table>\n",
       "</div>"
      ],
      "text/plain": [
       "                              Количество побед\n",
       "win_react_2.py                              24\n",
       "submission.py                               23\n",
       "copy_next_opponent.py                       22\n",
       "win_react_1.py                              18\n",
       "opp_agent.py                                15\n",
       "rock_agent.py                               14\n",
       "rnd_opponent.py                             12\n",
       "copy_opponent.py                            12\n",
       "copy_prev_opponent.py                       12\n",
       "scissors_agent.py                           11\n",
       "paper_agent.py                               9\n",
       "rock_paper_scissors_agent.py                 7"
      ]
     },
     "execution_count": 66,
     "metadata": {},
     "output_type": "execute_result"
    }
   ],
   "source": [
    "win_rating = pd.Series(rank, name=\"Количество побед\").sort_values(ascending=False).to_frame()\n",
    "win_rating"
   ]
  },
  {
   "cell_type": "code",
   "execution_count": null,
   "id": "dade4b59",
   "metadata": {},
   "outputs": [],
   "source": []
  }
 ],
 "metadata": {
  "kernelspec": {
   "display_name": "Python 3 (ipykernel)",
   "language": "python",
   "name": "python3"
  },
  "language_info": {
   "codemirror_mode": {
    "name": "ipython",
    "version": 3
   },
   "file_extension": ".py",
   "mimetype": "text/x-python",
   "name": "python",
   "nbconvert_exporter": "python",
   "pygments_lexer": "ipython3",
   "version": "3.9.7"
  }
 },
 "nbformat": 4,
 "nbformat_minor": 5
}
